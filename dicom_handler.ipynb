{
 "cells": [
  {
   "cell_type": "markdown",
   "metadata": {},
   "source": [
    "## Import the libraries"
   ]
  },
  {
   "cell_type": "code",
   "execution_count": 95,
   "metadata": {},
   "outputs": [],
   "source": [
    "import pydicom\n",
    "import numpy as np\n",
    "from PIL import Image\n",
    "import os"
   ]
  },
  {
   "cell_type": "code",
   "execution_count": 8,
   "metadata": {},
   "outputs": [],
   "source": [
    "dicom_file=pydicom.dcmread(\"data/slice.IMA\")"
   ]
  },
  {
   "cell_type": "code",
   "execution_count": 9,
   "metadata": {},
   "outputs": [
    {
     "data": {
      "text/plain": [
       "Dataset.file_meta -------------------------------\n",
       "(0002,0000) File Meta Information Group Length  UL: 192\n",
       "(0002,0001) File Meta Information Version       OB: b'\\x00\\x01'\n",
       "(0002,0002) Media Storage SOP Class UID         UI: CT Image Storage\n",
       "(0002,0003) Media Storage SOP Instance UID      UI: 1.3.12.2.1107.5.1.4.45508.30000019041301312660900000455\n",
       "(0002,0010) Transfer Syntax UID                 UI: Explicit VR Little Endian\n",
       "(0002,0012) Implementation Class UID            UI: 1.3.12.2.1107.5.1.4\n",
       "(0002,0013) Implementation Version Name         SH: 'SIEMENS_S5VB42A'\n",
       "-------------------------------------------------\n",
       "(0008,0005) Specific Character Set              CS: 'ISO_IR 100'\n",
       "(0008,0008) Image Type                          CS: ['ORIGINAL', 'PRIMARY', 'LOCALIZER', 'CT_SOM5 TOP']\n",
       "(0008,0016) SOP Class UID                       UI: CT Image Storage\n",
       "(0008,0018) SOP Instance UID                    UI: 1.3.12.2.1107.5.1.4.45508.30000019041301312660900000455\n",
       "(0008,0020) Study Date                          DA: '20190413'\n",
       "(0008,0021) Series Date                         DA: '20190413'\n",
       "(0008,0022) Acquisition Date                    DA: '20190413'\n",
       "(0008,0023) Content Date                        DA: '20190413'\n",
       "(0008,0030) Study Time                          TM: '084701.437000'\n",
       "(0008,0031) Series Time                         TM: '084712.421000'\n",
       "(0008,0032) Acquisition Time                    TM: '084730.046796'\n",
       "(0008,0033) Content Time                        TM: '084730.046796'\n",
       "(0008,0050) Accession Number                    SH: ''\n",
       "(0008,0060) Modality                            CS: 'CT'\n",
       "(0008,0070) Manufacturer                        LO: 'SIEMENS'\n",
       "(0008,0080) Institution Name                    LO: 'DDNMRC'\n",
       "(0008,0081) Institution Address                 ST: 'Street\\r\\nCity/829f4a/\\r\\nDistrict\\r\\nIN'\n",
       "(0008,0090) Referring Physician's Name          PN: ''\n",
       "(0008,1010) Station Name                        SH: 'MEDPC'\n",
       "(0008,1030) Study Description                   LO: 'Abdomen^01_DDNMRC_AbdomenPlain (Adult)'\n",
       "(0008,103E) Series Description                  LO: 'Topogram  1.0  T20f'\n",
       "(0008,1090) Manufacturer's Model Name           LO: 'Biograph 6'\n",
       "(0009,0010) Private Creator                     LO: 'SIEMENS CT VA1 DUMMY'\n",
       "(0010,0010) Patient's Name                      PN: 'RAMSIYA BEEGAM S'\n",
       "(0010,0020) Patient ID                          LO: '5527'\n",
       "(0010,0030) Patient's Birth Date                DA: '19950413'\n",
       "(0010,0040) Patient's Sex                       CS: 'F'\n",
       "(0010,1010) Patient's Age                       AS: '024Y'\n",
       "(0010,1030) Patient's Weight                    DS: '85'\n",
       "(0018,0015) Body Part Examined                  CS: 'ABDOMEN'\n",
       "(0018,0050) Slice Thickness                     DS: '1'\n",
       "(0018,0060) KVP                                 DS: '130'\n",
       "(0018,0090) Data Collection Diameter            DS: '500.084'\n",
       "(0018,1000) Device Serial Number                LO: '45508'\n",
       "(0018,1020) Software Versions                   LO: '6.7.3'\n",
       "(0018,1030) Protocol Name                       LO: '01_DDNMRC_AbdomenPlain'\n",
       "(0018,1100) Reconstruction Diameter             DS: '512'\n",
       "(0018,1110) Distance Source to Detector         DS: '940'\n",
       "(0018,1111) Distance Source to Patient          DS: '535'\n",
       "(0018,1120) Gantry/Detector Tilt                DS: '0'\n",
       "(0018,1130) Table Height                        DS: '140'\n",
       "(0018,1140) Rotation Direction                  CS: 'CW'\n",
       "(0018,1150) Exposure Time                       IS: '4600'\n",
       "(0018,1151) X-Ray Tube Current                  IS: '20'\n",
       "(0018,1152) Exposure                            IS: '92'\n",
       "(0018,1160) Filter Type                         SH: '1'\n",
       "(0018,1170) Generator Power                     IS: '2'\n",
       "(0018,1190) Focal Spot(s)                       DS: '0.6'\n",
       "(0018,1200) Date of Last Calibration            DA: '20190413'\n",
       "(0018,1201) Time of Last Calibration            TM: '070446.000000'\n",
       "(0018,1210) Convolution Kernel                  SH: 'T20f'\n",
       "(0018,5100) Patient Position                    CS: 'HFS'\n",
       "(0018,9306) Single Collimation Width            FD: 0.5\n",
       "(0018,9307) Total Collimation Width             FD: 3.0\n",
       "(0018,9309) Table Speed                         FD: 100.0\n",
       "(0018,9323) Exposure Modulation Type            CS: 'NONE'\n",
       "(0018,9324) Estimated Dose Saving               FD: 0.0\n",
       "(0018,9345) CTDIvol                             FD: 0.0816\n",
       "(0019,0010) Private Creator                     LO: 'SIEMENS CT VA0  COAD'\n",
       "(0019,1090) [Osteo Offset]                      DS: '0'\n",
       "(0019,1092) [Osteo Regression Line Slope]       DS: '0.921'\n",
       "(0019,1093) [Osteo Regression Line Intercept]   DS: '-1.196'\n",
       "(0019,1096) [Osteo Phantom Number]              IS: '0'\n",
       "(0019,10B1) [Unknown]                           LO: '4.30000019041301521884300000013'\n",
       "(0020,000D) Study Instance UID                  UI: 1.3.12.2.1107.5.1.4.45508.30000019041301495235900000012\n",
       "(0020,000E) Series Instance UID                 UI: 1.3.12.2.1107.5.1.4.45508.30000019041301495235900000013\n",
       "(0020,0010) Study ID                            SH: '1'\n",
       "(0020,0011) Series Number                       IS: '1'\n",
       "(0020,0012) Acquisition Number                  IS: '1'\n",
       "(0020,0013) Instance Number                     IS: '1'\n",
       "(0020,0032) Image Position (Patient)            DS: [-255.5, -140, -807]\n",
       "(0020,0037) Image Orientation (Patient)         DS: [1, 7.044874666e-016, 0, 0, 0, -1]\n",
       "(0020,0052) Frame of Reference UID              UI: 1.3.12.2.1107.5.1.4.45508.30000019041301312660900000454\n",
       "(0020,1040) Position Reference Indicator        LO: ''\n",
       "(0020,1041) Slice Location                      DS: '-806.5'\n",
       "(0020,4000) Image Comments                      LT: ''\n",
       "(0021,0010) Private Creator                     LO: 'SIEMENS MED'\n",
       "(0021,1011) [Target]                            DS: [0, 0]\n",
       "(0028,0002) Samples per Pixel                   US: 1\n",
       "(0028,0004) Photometric Interpretation          CS: 'MONOCHROME2'\n",
       "(0028,0010) Rows                                US: 512\n",
       "(0028,0011) Columns                             US: 512\n",
       "(0028,0030) Pixel Spacing                       DS: [1, 1]\n",
       "(0028,0100) Bits Allocated                      US: 16\n",
       "(0028,0101) Bits Stored                         US: 12\n",
       "(0028,0102) High Bit                            US: 11\n",
       "(0028,0103) Pixel Representation                US: 0\n",
       "(0028,1050) Window Center                       DS: [50, 300]\n",
       "(0028,1051) Window Width                        DS: [350, 2000]\n",
       "(0028,1052) Rescale Intercept                   DS: '-1024'\n",
       "(0028,1053) Rescale Slope                       DS: '1'\n",
       "(0028,1055) Window Center & Width Explanation   LO: ['WINDOW1', 'WINDOW2']\n",
       "(0029,0010) Private Creator                     LO: 'SIEMENS CSA HEADER'\n",
       "(0029,0011) Private Creator                     LO: 'SIEMENS MEDCOM HEADER'\n",
       "(0029,1008) [CSA Image Header Type]             CS: 'SOM 5'\n",
       "(0029,1009) [CSA Image Header Version]          LO: 'VA10A 971201'\n",
       "(0029,1010) [CSA Image Header Info]             OB: Array of 598 elements\n",
       "(0029,1140)  [Application Header Sequence]  2 item(s) ---- \n",
       "   (0029,0010) Private Creator                     LO: 'SIEMENS MEDCOM HEADER'\n",
       "   (0029,1041) [Application Header Type]           CS: 'SOM 5 TPOS'\n",
       "   (0029,1042) [Application Header ID]             LO: 'SOM 5 NULLPOSITION'\n",
       "   (0029,1043) [Application Header Version]        LO: 'VB10A 20030626'\n",
       "   (0029,1044) [Application Header Info]           OB: b'+000000000\\x00M'\n",
       "   ---------\n",
       "   (0029,0010) Private Creator                     LO: 'SIEMENS MEDCOM HEADER'\n",
       "   (0029,1041) [Application Header Type]           CS: 'SOM 5 AEC'\n",
       "   (0029,1042) [Application Header ID]             LO: 'SOM 5 ATTENUATION'\n",
       "   (0029,1043) [Application Header Version]        LO: 'VB10A 20030626'\n",
       "   (0029,1044) [Application Header Info]           OB: Array of 8802 elements\n",
       "   ---------\n",
       "(7FE0,0010) Pixel Data                          OW: Array of 524288 elements"
      ]
     },
     "execution_count": 9,
     "metadata": {},
     "output_type": "execute_result"
    }
   ],
   "source": [
    "dicom_file"
   ]
  },
  {
   "cell_type": "code",
   "execution_count": 10,
   "metadata": {},
   "outputs": [
    {
     "data": {
      "text/plain": [
       "'SIEMENS'"
      ]
     },
     "execution_count": 10,
     "metadata": {},
     "output_type": "execute_result"
    }
   ],
   "source": [
    "dicom_file.Manufacturer"
   ]
  },
  {
   "cell_type": "code",
   "execution_count": 11,
   "metadata": {},
   "outputs": [],
   "source": [
    "dicom_array = dicom_file.pixel_array"
   ]
  },
  {
   "cell_type": "code",
   "execution_count": 10,
   "metadata": {},
   "outputs": [
    {
     "data": {
      "text/plain": [
       "(512, 512)"
      ]
     },
     "execution_count": 10,
     "metadata": {},
     "output_type": "execute_result"
    }
   ],
   "source": [
    "dicom_array.shape"
   ]
  },
  {
   "cell_type": "markdown",
   "metadata": {},
   "source": [
    "## Show Image"
   ]
  },
  {
   "cell_type": "code",
   "execution_count": 12,
   "metadata": {},
   "outputs": [
    {
     "data": {
      "text/plain": [
       "numpy.ndarray"
      ]
     },
     "execution_count": 12,
     "metadata": {},
     "output_type": "execute_result"
    }
   ],
   "source": [
    "type(dicom_array)"
   ]
  },
  {
   "cell_type": "code",
   "execution_count": 13,
   "metadata": {},
   "outputs": [
    {
     "data": {
      "text/plain": [
       "array([   0,  782,  786,  789,  792,  799,  800,  802,  805,  806,  813,\n",
       "        814,  820,  825,  829,  830,  832,  833,  835,  836,  837,  838,\n",
       "        840,  841,  842,  843,  844,  845,  847,  848,  849,  850,  852,\n",
       "        853,  854,  855,  856,  857,  858,  859,  860,  861,  862,  863,\n",
       "        864,  865,  866,  867,  868,  869,  870,  871,  872,  873,  874,\n",
       "        875,  876,  877,  878,  879,  880,  881,  882,  883,  884,  885,\n",
       "        886,  887,  888,  889,  890,  891,  892,  893,  894,  895,  896,\n",
       "        897,  898,  899,  900,  901,  902,  903,  904,  905,  906,  907,\n",
       "        908,  909,  910,  911,  912,  913,  914,  915,  916,  917,  918,\n",
       "        919,  920,  921,  922,  923,  924,  925,  926,  927,  928,  929,\n",
       "        930,  931,  932,  933,  934,  935,  936,  937,  938,  939,  940,\n",
       "        941,  942,  943,  944,  945,  946,  947,  948,  949,  950,  951,\n",
       "        952,  953,  954,  955,  956,  957,  958,  959,  960,  961,  962,\n",
       "        963,  964,  965,  966,  967,  968,  969,  970,  971,  972,  973,\n",
       "        974,  975,  976,  977,  978,  979,  980,  981,  982,  983,  984,\n",
       "        985,  986,  987,  988,  989,  990,  991,  992,  993,  994,  995,\n",
       "        996,  997,  998,  999, 1000, 1001, 1002, 1003, 1004, 1005, 1006,\n",
       "       1007, 1008, 1009, 1010, 1011, 1012, 1013, 1014, 1015, 1016, 1017,\n",
       "       1018, 1019, 1020, 1021, 1022, 1023, 1024, 1025, 1026, 1027, 1028,\n",
       "       1029, 1030, 1031, 1032, 1033, 1034, 1035, 1036, 1037, 1038, 1039,\n",
       "       1040, 1041, 1042, 1043, 1044, 1045, 1046, 1047, 1048, 1049, 1050,\n",
       "       1051, 1052, 1053, 1054, 1055, 1056, 1057, 1058, 1059, 1060, 1061,\n",
       "       1062, 1063, 1064, 1065, 1066, 1067, 1068, 1069, 1070, 1071, 1072,\n",
       "       1073, 1074, 1075, 1076, 1077, 1078, 1079, 1080, 1081, 1082, 1083,\n",
       "       1084, 1085, 1086, 1087, 1088, 1089, 1090, 1091, 1092, 1093, 1094,\n",
       "       1095, 1096, 1097, 1098, 1099, 1100, 1101, 1102, 1103, 1104, 1105,\n",
       "       1106, 1107, 1108, 1109, 1110, 1111, 1112, 1113, 1114, 1115, 1116,\n",
       "       1117, 1118, 1119, 1120, 1121, 1122, 1123, 1124, 1125, 1126, 1127,\n",
       "       1128, 1129, 1130, 1131, 1132, 1133, 1134, 1135, 1136, 1137, 1138,\n",
       "       1139, 1140, 1141, 1142, 1143, 1144, 1145, 1146, 1147, 1148, 1149,\n",
       "       1150, 1151, 1152, 1153, 1154, 1155, 1156, 1157, 1158, 1159, 1160,\n",
       "       1161, 1162, 1163, 1164, 1165, 1166, 1167, 1168, 1169, 1170, 1171,\n",
       "       1172, 1173, 1174, 1175, 1176, 1177, 1178, 1179, 1180, 1181, 1182,\n",
       "       1183, 1184, 1185, 1186, 1187, 1188, 1189, 1190, 1191, 1192, 1193,\n",
       "       1195, 1196, 1197, 1198, 1199, 1201, 1202, 1203, 1204, 1205, 1207,\n",
       "       1208, 1209, 1210, 1214, 1216, 1217, 1219, 1224, 1226, 1228, 1231,\n",
       "       1235, 1238, 1242, 1244, 1245, 1246, 1249, 1254, 1263, 1264, 1265,\n",
       "       1277, 1290], dtype=uint16)"
      ]
     },
     "execution_count": 13,
     "metadata": {},
     "output_type": "execute_result"
    }
   ],
   "source": [
    "np.unique(dicom_array)"
   ]
  },
  {
   "cell_type": "code",
   "execution_count": 45,
   "metadata": {},
   "outputs": [],
   "source": [
    "float_dicom_array = dicom_array.astype(float)\n",
    "positive_dicom_array = np.maximum(float_dicom_array,0)"
   ]
  },
  {
   "cell_type": "code",
   "execution_count": 48,
   "metadata": {},
   "outputs": [],
   "source": [
    "normalized_dicom_array = positive_dicom_array/positive_dicom_array.max()\n",
    "normalized_dicom_array*=255.0\n",
    "uint8_image=np.uint8(normalized_dicom_array)"
   ]
  },
  {
   "cell_type": "code",
   "execution_count": 22,
   "metadata": {},
   "outputs": [],
   "source": [
    "# np.unique(normalized_dicom_array)"
   ]
  },
  {
   "cell_type": "code",
   "execution_count": 49,
   "metadata": {},
   "outputs": [],
   "source": [
    "pillow_image = Image.fromarray(uint8_image)\n",
    "pillow_image.show()"
   ]
  },
  {
   "cell_type": "code",
   "execution_count": 62,
   "metadata": {},
   "outputs": [],
   "source": [
    "def normalize_visualize_dicom_1 (dcm_file, show=False):\n",
    "    dicom_file=pydicom.dcmread(dcm_file)\n",
    "    dicom_array = dicom_file.pixel_array.astype(float)\n",
    "    normalized_dicom_array = ((np.maximum(float_dicom_array,0)) / dicom_array.max()) * 255.0\n",
    "    uint8_image=np.uint8(normalized_dicom_array)\n",
    "\n",
    "    if show == True:\n",
    "        pillow_image = Image.fromarray(uint8_image)\n",
    "        pillow_image.show()\n",
    "\n",
    "    return uint8_image"
   ]
  },
  {
   "cell_type": "code",
   "execution_count": 65,
   "metadata": {},
   "outputs": [],
   "source": [
    "image_1 = normalize_visualize_dicom_1('data/slice.IMA', show=True)"
   ]
  },
  {
   "cell_type": "markdown",
   "metadata": {},
   "source": [
    "## Show Image 2"
   ]
  },
  {
   "cell_type": "code",
   "execution_count": 56,
   "metadata": {},
   "outputs": [],
   "source": [
    "hounsfield_min = np.min(dicom_array)\n",
    "hounsfield_max = np.max(dicom_array)\n",
    "hounsfield_range = hounsfield_max - hounsfield_min"
   ]
  },
  {
   "cell_type": "code",
   "execution_count": 57,
   "metadata": {},
   "outputs": [],
   "source": [
    "dicom_array[dicom_array < hounsfield_min] = hounsfield_min\n",
    "dicom_array[dicom_array > hounsfield_max] = hounsfield_max\n",
    "normalized_array_2 = (dicom_array - hounsfield_min) / hounsfield_range\n",
    "normalized_array_2 *= 255\n",
    "uint8_image_2 = np.uint8(normalized_array_2)"
   ]
  },
  {
   "cell_type": "code",
   "execution_count": 58,
   "metadata": {},
   "outputs": [],
   "source": [
    "pillow_image = Image.fromarray(uint8_image_2)\n",
    "pillow_image.show()"
   ]
  },
  {
   "cell_type": "code",
   "execution_count": 73,
   "metadata": {},
   "outputs": [],
   "source": [
    "def normalize_visualize_dicom_2 (dcm_file, max_v = None, min_v = None, show=True):\n",
    "    dicom_file=pydicom.dcmread(dcm_file)\n",
    "    dicom_array = dicom_file.pixel_array\n",
    "\n",
    "    if max_v is not None: hounsfield_max = max_v\n",
    "    else: hounsfield_max = np.max(dicom_array)\n",
    "\n",
    "    if min_v is not None: hounsfield_min = min_v\n",
    "    else: hounsfield_min = np.min(dicom_array)\n",
    "\n",
    "    hounsfield_range = hounsfield_max - hounsfield_min\n",
    "\n",
    "    dicom_array[dicom_array < hounsfield_min] = hounsfield_min\n",
    "    dicom_array[dicom_array > hounsfield_max] = hounsfield_max\n",
    "    normalized_array = ((dicom_array - hounsfield_min) / hounsfield_range)*255\n",
    "    uint8_image = np.uint8(normalized_array)\n",
    "\n",
    "    if show:\n",
    "        pillow_image = Image.fromarray(uint8_image)\n",
    "        pillow_image.show()\n",
    "\n",
    "    return uint8_image\n",
    "\n",
    "\n",
    "    "
   ]
  },
  {
   "cell_type": "code",
   "execution_count": 78,
   "metadata": {},
   "outputs": [],
   "source": [
    "image_2 = normalize_visualize_dicom_2('data/slice.IMA', show=True)"
   ]
  },
  {
   "cell_type": "markdown",
   "metadata": {},
   "source": [
    "## Anonymize a dicom file\n"
   ]
  },
  {
   "cell_type": "code",
   "execution_count": 79,
   "metadata": {},
   "outputs": [
    {
     "name": "stderr",
     "output_type": "stream",
     "text": [
      "d:\\anaconda\\envs\\dicom-env\\Lib\\site-packages\\pydicom\\valuerep.py:440: UserWarning: Invalid value for VR DA: '01.01.1999'.\n",
      "  warn_and_log(msg)\n"
     ]
    }
   ],
   "source": [
    "dicom_file.PatientName = 'Aramis'\n",
    "dicom_file.PatientBirthDate = '01.01.1999'\n",
    "dicom_file.PatientSex = 'F'\n",
    "dicom_file.StudyID = ''"
   ]
  },
  {
   "cell_type": "code",
   "execution_count": 80,
   "metadata": {},
   "outputs": [],
   "source": [
    "dicom_file.save_as('data/anonymized_slice.IMA')"
   ]
  },
  {
   "cell_type": "code",
   "execution_count": 81,
   "metadata": {},
   "outputs": [
    {
     "data": {
      "text/plain": [
       "'Aramis'"
      ]
     },
     "execution_count": 81,
     "metadata": {},
     "output_type": "execute_result"
    }
   ],
   "source": [
    "new_dicom_file = pydicom.dcmread('data/anonymized_slice.IMA')\n",
    "new_dicom_file.PatientName"
   ]
  },
  {
   "cell_type": "code",
   "execution_count": 83,
   "metadata": {},
   "outputs": [],
   "source": [
    "def anonymize_dicom(dcm_file, pn=None, pb=None, save_path=None):\n",
    "    dicom_file = pydicom(dcm_file)\n",
    "\n",
    "    if pn:\n",
    "        dicom_file.PatientName = pn\n",
    "\n",
    "    else: dicom_file.PatientName = ''\n",
    "\n",
    "    if pb: dicom_file.PatientBirthDate = pb\n",
    "    else: dicom_file.PatientBirthDate = ''\n",
    "\n",
    "    if save_path:\n",
    "        dicom_file.save_as(save_path)\n",
    "\n",
    "    return dicom_file\n",
    "\n"
   ]
  },
  {
   "cell_type": "markdown",
   "metadata": {},
   "source": [
    "## Changing Tags\n"
   ]
  },
  {
   "cell_type": "code",
   "execution_count": 84,
   "metadata": {},
   "outputs": [],
   "source": [
    "def change_tags(dcm_file, ImageType=None, SOPClassUID=None, SOPInstanceUID=None, StudyDate=None,\n",
    "                SeriesDate=None, ContentDate=None, StudyTime=None, SeriesTime=None,\n",
    "                ContentTime=None, AccessionNumber=None, Modality=None, Manufacturer=None,\n",
    "                ReferringPhysicianName=None, PatientName=None, PatientID=None, PatientBirthDate=None,\n",
    "                PatientSex=None, SliceThickness=None, PatientPosition=None, StudyInstanceUID=None,\n",
    "                SeriesInstanceUID=None, StudyID=None, SeriesNumber=None, InstanceNumber=None,\n",
    "                ImagePositionPatient=None, ImageOrientationPatient=None, FrameOfReferenceUID=None,\n",
    "                PositionReferenceIndicator=None, SamplesPerPixel=None, PhotometricInterpretation=None,\n",
    "                Rows=None, Columns=None, PixelSpacing=None, BitsAllocated=None, BitsStored=None,\n",
    "                HighBit=None, PixelRepresentation=None, WindowCenter=None, WindowWidth=None, \n",
    "                RescaleIntercept=None, RescaleSlope=None, RescaleType=None, PixelData=None):\n",
    "    \n",
    "    \n",
    "    dicom_file_data = pydicom.dcmread(dcm_file)\n",
    "\n",
    "    if ImageType: dicom_file_data.ImageType = ImageType\n",
    "    if SOPClassUID: dicom_file_data.SOPClassUID = SOPClassUID\n",
    "    if SOPInstanceUID: dicom_file_data.SOPInstanceUID = SOPInstanceUID\n",
    "    if StudyDate: dicom_file_data.StudyDate = StudyDate\n",
    "    if SeriesDate: dicom_file_data.SeriesDate = SeriesDate\n",
    "    if ContentDate: dicom_file_data.ContentDate = ContentDate\n",
    "    if AccessionNumber: dicom_file_data.AccessionNumber = AccessionNumber\n",
    "    if Modality: dicom_file_data.Modality = Modality\n",
    "    if Manufacturer: dicom_file_data.Manufacturer = Manufacturer\n",
    "    if ReferringPhysicianName: dicom_file_data.ReferringPhysicianName = ReferringPhysicianName\n",
    "    if PatientName: dicom_file_data.PatientName = PatientName\n",
    "    if PatientID: dicom_file_data.PatientID = PatientID\n",
    "    if PatientBirthDate: dicom_file_data.PatientBirthDate = PatientBirthDate\n",
    "    if PatientSex: dicom_file_data.PatientSex = PatientSex\n",
    "    if SliceThickness: dicom_file_data.SliceThickness = SliceThickness\n",
    "    if PatientPosition: dicom_file_data.PatientPosition = PatientPosition\n",
    "    if StudyInstanceUID: dicom_file_data.StudyInstanceUID = StudyInstanceUID\n",
    "    if SeriesInstanceUID: dicom_file_data.SeriesInstanceUID = SeriesInstanceUID\n",
    "    if StudyID: dicom_file_data.StudyID = StudyID\n",
    "    if SeriesNumber: dicom_file_data.SeriesNumber = SeriesNumber\n",
    "    if InstanceNumber: dicom_file_data.InstanceNumber = InstanceNumber\n",
    "    if ImagePositionPatient: dicom_file_data.ImagePositionPatient = ImagePositionPatient\n",
    "    if ImageOrientationPatient: dicom_file_data.ImageOrientationPatient = ImageOrientationPatient\n",
    "    if FrameOfReferenceUID: dicom_file_data.FrameOfReferenceUID = FrameOfReferenceUID\n",
    "    if PositionReferenceIndicator: dicom_file_data.PositionReferenceIndicator = PositionReferenceIndicator\n",
    "    if SamplesPerPixel: dicom_file_data.SamplesPerPixel = SamplesPerPixel\n",
    "    if PhotometricInterpretation: dicom_file_data.PhotometricInterpretation = PhotometricInterpretation\n",
    "    if Rows: dicom_file_data.Rows = Rows\n",
    "    if Columns: dicom_file_data.Columns = Columns\n",
    "    if PixelSpacing: dicom_file_data.PixelSpacing = PixelSpacing\n",
    "    if BitsAllocated: dicom_file_data.BitsAllocated = BitsAllocated\n",
    "    if BitsStored: dicom_file_data.BitsStored = BitsStored\n",
    "    if HighBit: dicom_file_data.HighBit = HighBit\n",
    "    if PixelRepresentation: dicom_file_data.PixelRepresentation = PixelRepresentation\n",
    "    if WindowCenter: dicom_file_data.WindowCenter = WindowCenter\n",
    "    if WindowWidth: dicom_file_data.WindowWidth = WindowWidth\n",
    "    if WindowWidth: dicom_file_data = WindowWidth\n",
    "    if RescaleIntercept: dicom_file_data.RescaleIntercept = RescaleIntercept\n",
    "    if RescaleType: dicom_file_data.RescaleType = RescaleType\n",
    "    if PixelData: dicom_file_data.PixelData = PixelData\n",
    "\n",
    "    return dicom_file_data"
   ]
  },
  {
   "cell_type": "code",
   "execution_count": 85,
   "metadata": {},
   "outputs": [],
   "source": [
    "new_dicom_with_tags =  change_tags('data/slice.IMA', ImageType='RGB')\n",
    "new_dicom_with_tags.save_as('data/edited_slice.IMA')"
   ]
  },
  {
   "cell_type": "code",
   "execution_count": 87,
   "metadata": {},
   "outputs": [
    {
     "data": {
      "text/plain": [
       "'RGB'"
      ]
     },
     "execution_count": 87,
     "metadata": {},
     "output_type": "execute_result"
    }
   ],
   "source": [
    "uploaded_dicom = pydicom.dcmread('data/edited_slice.IMA')\n",
    "uploaded_dicom.ImageType"
   ]
  },
  {
   "cell_type": "markdown",
   "metadata": {},
   "source": [
    "## Change the Pixel Array Value"
   ]
  },
  {
   "cell_type": "code",
   "execution_count": 88,
   "metadata": {},
   "outputs": [
    {
     "data": {
      "text/plain": [
       "array([[972, 972, 972, ..., 971, 971, 971],\n",
       "       [972, 973, 972, ..., 971, 971, 971],\n",
       "       [972, 972, 972, ..., 970, 972, 972],\n",
       "       ...,\n",
       "       [  0,   0,   0, ...,   0,   0,   0],\n",
       "       [  0,   0,   0, ...,   0,   0,   0],\n",
       "       [  0,   0,   0, ...,   0,   0,   0]],\n",
       "      shape=(512, 512), dtype=uint16)"
      ]
     },
     "execution_count": 88,
     "metadata": {},
     "output_type": "execute_result"
    }
   ],
   "source": [
    "uploaded_dicom.pixel_array"
   ]
  },
  {
   "cell_type": "code",
   "execution_count": 89,
   "metadata": {},
   "outputs": [
    {
     "data": {
      "text/plain": [
       "bytes"
      ]
     },
     "execution_count": 89,
     "metadata": {},
     "output_type": "execute_result"
    }
   ],
   "source": [
    "type(uploaded_dicom.PixelData)"
   ]
  },
  {
   "cell_type": "code",
   "execution_count": 90,
   "metadata": {},
   "outputs": [],
   "source": [
    "new_array = np.zeros((512,512)).tobytes()"
   ]
  },
  {
   "cell_type": "code",
   "execution_count": 91,
   "metadata": {},
   "outputs": [],
   "source": [
    "new_dicom_pixel_data = change_tags('data/slice.IMA', PixelData=new_array)"
   ]
  },
  {
   "cell_type": "code",
   "execution_count": 92,
   "metadata": {},
   "outputs": [
    {
     "name": "stderr",
     "output_type": "stream",
     "text": [
      "d:\\anaconda\\envs\\dicom-env\\Lib\\site-packages\\pydicom\\pixels\\decoders\\base.py:801: UserWarning: The number of bytes of pixel data is sufficient to contain 4 frames which is larger than the given (0028,0008) 'Number of Frames' value of 1. The returned data will include these extra frames and if it's correct then you should update 'Number of Frames' accordingly, otherwise pass 'allow_excess_frames=False' to return only the first 1 frames.\n",
      "  warn_and_log(\n"
     ]
    },
    {
     "data": {
      "text/plain": [
       "array([[[0, 0, 0, ..., 0, 0, 0],\n",
       "        [0, 0, 0, ..., 0, 0, 0],\n",
       "        [0, 0, 0, ..., 0, 0, 0],\n",
       "        ...,\n",
       "        [0, 0, 0, ..., 0, 0, 0],\n",
       "        [0, 0, 0, ..., 0, 0, 0],\n",
       "        [0, 0, 0, ..., 0, 0, 0]],\n",
       "\n",
       "       [[0, 0, 0, ..., 0, 0, 0],\n",
       "        [0, 0, 0, ..., 0, 0, 0],\n",
       "        [0, 0, 0, ..., 0, 0, 0],\n",
       "        ...,\n",
       "        [0, 0, 0, ..., 0, 0, 0],\n",
       "        [0, 0, 0, ..., 0, 0, 0],\n",
       "        [0, 0, 0, ..., 0, 0, 0]],\n",
       "\n",
       "       [[0, 0, 0, ..., 0, 0, 0],\n",
       "        [0, 0, 0, ..., 0, 0, 0],\n",
       "        [0, 0, 0, ..., 0, 0, 0],\n",
       "        ...,\n",
       "        [0, 0, 0, ..., 0, 0, 0],\n",
       "        [0, 0, 0, ..., 0, 0, 0],\n",
       "        [0, 0, 0, ..., 0, 0, 0]],\n",
       "\n",
       "       [[0, 0, 0, ..., 0, 0, 0],\n",
       "        [0, 0, 0, ..., 0, 0, 0],\n",
       "        [0, 0, 0, ..., 0, 0, 0],\n",
       "        ...,\n",
       "        [0, 0, 0, ..., 0, 0, 0],\n",
       "        [0, 0, 0, ..., 0, 0, 0],\n",
       "        [0, 0, 0, ..., 0, 0, 0]]], shape=(4, 512, 512), dtype=uint16)"
      ]
     },
     "execution_count": 92,
     "metadata": {},
     "output_type": "execute_result"
    }
   ],
   "source": [
    "new_dicom_pixel_data.pixel_array"
   ]
  },
  {
   "cell_type": "markdown",
   "metadata": {},
   "source": [
    "## Convert Dicom into png / jpeg"
   ]
  },
  {
   "cell_type": "code",
   "execution_count": 94,
   "metadata": {},
   "outputs": [],
   "source": [
    "array = normalize_visualize_dicom_2('data/slice.IMA', show=False)\n",
    "img = Image.fromarray(array)\n",
    "img.save('data/slice.png')"
   ]
  },
  {
   "cell_type": "code",
   "execution_count": 96,
   "metadata": {},
   "outputs": [],
   "source": [
    "def dicom_to_png(dcm_file, png_path, max_v=None, min_v=None): # png/path/something.dcm\n",
    "    slice_name = os.path.basename(dcm_file)[:-4]\n",
    "    array = normalize_visualize_dicom_2(dcm_file, max_v, min_v, show=False)\n",
    "    img = Image.fromarray(array)\n",
    "    img.save(f'{png_path}/{slice_name}.png')"
   ]
  },
  {
   "cell_type": "markdown",
   "metadata": {},
   "source": [
    "## Convert a group of Dicoms to png"
   ]
  },
  {
   "cell_type": "code",
   "execution_count": 97,
   "metadata": {},
   "outputs": [],
   "source": [
    "from glob import glob"
   ]
  },
  {
   "cell_type": "code",
   "execution_count": 98,
   "metadata": {},
   "outputs": [],
   "source": [
    "dicom_files_path = glob('multiple/*.IMA')"
   ]
  },
  {
   "cell_type": "code",
   "execution_count": 101,
   "metadata": {},
   "outputs": [],
   "source": [
    "for dicom_file in dicom_files_path:\n",
    "    dicom_to_png(dicom_file, 'multiple/multi_conv')"
   ]
  },
  {
   "cell_type": "markdown",
   "metadata": {},
   "source": [
    "## Convert a group of dicom to nifty"
   ]
  },
  {
   "cell_type": "code",
   "execution_count": 105,
   "metadata": {},
   "outputs": [],
   "source": [
    "\n",
    "import dicom2nifti\n"
   ]
  },
  {
   "cell_type": "code",
   "execution_count": 107,
   "metadata": {},
   "outputs": [
    {
     "name": "stderr",
     "output_type": "stream",
     "text": [
      "Removing duplicate slice from series\n",
      "Removing duplicate slice from series\n"
     ]
    },
    {
     "ename": "IndexError",
     "evalue": "list index out of range",
     "output_type": "error",
     "traceback": [
      "\u001b[31m---------------------------------------------------------------------------\u001b[39m",
      "\u001b[31mIndexError\u001b[39m                                Traceback (most recent call last)",
      "\u001b[36mCell\u001b[39m\u001b[36m \u001b[39m\u001b[32mIn[107]\u001b[39m\u001b[32m, line 2\u001b[39m\n\u001b[32m      1\u001b[39m path_dicom_folder = \u001b[33m'\u001b[39m\u001b[33mmultiple\u001b[39m\u001b[33m'\u001b[39m\n\u001b[32m----> \u001b[39m\u001b[32m2\u001b[39m \u001b[43mdicom2nifti\u001b[49m\u001b[43m.\u001b[49m\u001b[43mdicom_series_to_nifti\u001b[49m\u001b[43m(\u001b[49m\u001b[43mpath_dicom_folder\u001b[49m\u001b[43m,\u001b[49m\u001b[43m \u001b[49m\u001b[33;43m'\u001b[39;49m\u001b[33;43mmultiple/multi_conv.nii.gz\u001b[39;49m\u001b[33;43m'\u001b[39;49m\u001b[43m)\u001b[49m\n",
      "\u001b[36mFile \u001b[39m\u001b[32md:\\anaconda\\envs\\dicom-env\\Lib\\site-packages\\dicom2nifti\\convert_dicom.py:79\u001b[39m, in \u001b[36mdicom_series_to_nifti\u001b[39m\u001b[34m(original_dicom_directory, output_file, reorient_nifti)\u001b[39m\n\u001b[32m     75\u001b[39m     shutil.copytree(original_dicom_directory, dicom_directory)\n\u001b[32m     77\u001b[39m     dicom_input = common.read_dicom_directory(dicom_directory)\n\u001b[32m---> \u001b[39m\u001b[32m79\u001b[39m     \u001b[38;5;28;01mreturn\u001b[39;00m \u001b[43mdicom_array_to_nifti\u001b[49m\u001b[43m(\u001b[49m\u001b[43mdicom_input\u001b[49m\u001b[43m,\u001b[49m\u001b[43m \u001b[49m\u001b[43moutput_file\u001b[49m\u001b[43m,\u001b[49m\u001b[43m \u001b[49m\u001b[43mreorient_nifti\u001b[49m\u001b[43m)\u001b[49m\n\u001b[32m     81\u001b[39m \u001b[38;5;28;01mexcept\u001b[39;00m \u001b[38;5;167;01mAttributeError\u001b[39;00m \u001b[38;5;28;01mas\u001b[39;00m exception:\n\u001b[32m     82\u001b[39m     \u001b[38;5;28;01mraise\u001b[39;00m exception\n",
      "\u001b[36mFile \u001b[39m\u001b[32md:\\anaconda\\envs\\dicom-env\\Lib\\site-packages\\dicom2nifti\\convert_dicom.py:119\u001b[39m, in \u001b[36mdicom_array_to_nifti\u001b[39m\u001b[34m(dicom_list, output_file, reorient_nifti)\u001b[39m\n\u001b[32m    116\u001b[39m vendor = _get_vendor(dicom_list)\n\u001b[32m    118\u001b[39m \u001b[38;5;28;01mif\u001b[39;00m vendor == Vendor.GENERIC:\n\u001b[32m--> \u001b[39m\u001b[32m119\u001b[39m     results = \u001b[43mconvert_generic\u001b[49m\u001b[43m.\u001b[49m\u001b[43mdicom_to_nifti\u001b[49m\u001b[43m(\u001b[49m\u001b[43mdicom_list\u001b[49m\u001b[43m,\u001b[49m\u001b[43m \u001b[49m\u001b[43moutput_file\u001b[49m\u001b[43m)\u001b[49m\n\u001b[32m    120\u001b[39m \u001b[38;5;28;01melif\u001b[39;00m vendor == Vendor.SIEMENS:\n\u001b[32m    121\u001b[39m     results = convert_siemens.dicom_to_nifti(dicom_list, output_file)\n",
      "\u001b[36mFile \u001b[39m\u001b[32md:\\anaconda\\envs\\dicom-env\\Lib\\site-packages\\dicom2nifti\\convert_generic.py:221\u001b[39m, in \u001b[36mdicom_to_nifti\u001b[39m\u001b[34m(dicom_input, output_file)\u001b[39m\n\u001b[32m    218\u001b[39m dicom_input = remove_localizers_by_imagetype(dicom_input)\n\u001b[32m    220\u001b[39m \u001b[38;5;66;03m# convert\u001b[39;00m\n\u001b[32m--> \u001b[39m\u001b[32m221\u001b[39m \u001b[38;5;28;01mif\u001b[39;00m \u001b[43mcommon\u001b[49m\u001b[43m.\u001b[49m\u001b[43mis_multiframe_dicom\u001b[49m\u001b[43m(\u001b[49m\u001b[43mdicom_input\u001b[49m\u001b[43m)\u001b[49m:\n\u001b[32m    222\u001b[39m     logger.info(\u001b[33m'\u001b[39m\u001b[33mFound sequence type: MULTIFRAME\u001b[39m\u001b[33m'\u001b[39m)\n\u001b[32m    223\u001b[39m     \u001b[38;5;28;01mreturn\u001b[39;00m multiframe_to_nifti(dicom_input, output_file)\n",
      "\u001b[36mFile \u001b[39m\u001b[32md:\\anaconda\\envs\\dicom-env\\Lib\\site-packages\\dicom2nifti\\common.py:151\u001b[39m, in \u001b[36mis_multiframe_dicom\u001b[39m\u001b[34m(dicom_input)\u001b[39m\n\u001b[32m    143\u001b[39m \u001b[38;5;250m\u001b[39m\u001b[33;03m\"\"\"\u001b[39;00m\n\u001b[32m    144\u001b[39m \u001b[33;03mUse this function to detect if a dicom series is a siemens 4D dataset\u001b[39;00m\n\u001b[32m    145\u001b[39m \u001b[33;03mNOTE: Only the first slice will be checked so you can only provide an already sorted dicom directory\u001b[39;00m\n\u001b[32m   (...)\u001b[39m\u001b[32m    148\u001b[39m \u001b[33;03m:param dicom_input: directory with dicom files for 1 scan\u001b[39;00m\n\u001b[32m    149\u001b[39m \u001b[33;03m\"\"\"\u001b[39;00m\n\u001b[32m    150\u001b[39m \u001b[38;5;66;03m# read dicom header\u001b[39;00m\n\u001b[32m--> \u001b[39m\u001b[32m151\u001b[39m header = \u001b[43mdicom_input\u001b[49m\u001b[43m[\u001b[49m\u001b[32;43m0\u001b[39;49m\u001b[43m]\u001b[49m\n\u001b[32m    153\u001b[39m \u001b[38;5;28;01mif\u001b[39;00m Tag(\u001b[32m0x0002\u001b[39m, \u001b[32m0x0002\u001b[39m) \u001b[38;5;129;01mnot\u001b[39;00m \u001b[38;5;129;01min\u001b[39;00m header.file_meta:\n\u001b[32m    154\u001b[39m     \u001b[38;5;28;01mreturn\u001b[39;00m \u001b[38;5;28;01mFalse\u001b[39;00m\n",
      "\u001b[31mIndexError\u001b[39m: list index out of range"
     ]
    }
   ],
   "source": [
    "\n",
    "path_dicom_folder = 'multiple'\n",
    "dicom2nifti.dicom_series_to_nifti(path_dicom_folder, 'multiple/multi_conv.nii.gz')"
   ]
  },
  {
   "cell_type": "markdown",
   "metadata": {},
   "source": [
    "## Convert a group to mp4\n"
   ]
  },
  {
   "cell_type": "code",
   "execution_count": 108,
   "metadata": {},
   "outputs": [],
   "source": [
    "import cv2"
   ]
  },
  {
   "cell_type": "code",
   "execution_count": 109,
   "metadata": {},
   "outputs": [],
   "source": [
    "dicom_files_path = sorted(glob('multiple/*.IMA'))\n",
    "frame_per_second = 15\n",
    "frame_size = pydicom.dcmread(dicom_files_path[0]).pixel_array.shape"
   ]
  },
  {
   "cell_type": "code",
   "execution_count": 110,
   "metadata": {},
   "outputs": [],
   "source": [
    "out = cv2.VideoWriter('data/case_corona_scan.mp4', cv2.VideoWriter_fourcc(*'DIVX'), frame_per_second, frame_size)"
   ]
  },
  {
   "cell_type": "code",
   "execution_count": 112,
   "metadata": {},
   "outputs": [],
   "source": [
    "for filename in dicom_files_path:\n",
    "    img = normalize_visualize_dicom_2(filename, show=False)\n",
    "    cv2_img = cv2.cvtColor(img, cv2.COLOR_RGB2BGR)\n",
    "    out.write(cv2_img)\n",
    "\n",
    "out.release()"
   ]
  }
 ],
 "metadata": {
  "kernelspec": {
   "display_name": "dicom-env",
   "language": "python",
   "name": "python3"
  },
  "language_info": {
   "codemirror_mode": {
    "name": "ipython",
    "version": 3
   },
   "file_extension": ".py",
   "mimetype": "text/x-python",
   "name": "python",
   "nbconvert_exporter": "python",
   "pygments_lexer": "ipython3",
   "version": "3.12.9"
  }
 },
 "nbformat": 4,
 "nbformat_minor": 2
}
