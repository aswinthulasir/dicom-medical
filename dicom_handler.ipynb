{
 "cells": [
  {
   "cell_type": "markdown",
   "metadata": {},
   "source": [
    "## Import the libraries"
   ]
  },
  {
   "cell_type": "code",
   "execution_count": 11,
   "metadata": {},
   "outputs": [],
   "source": [
    "import pydicom\n",
    "import numpy as np"
   ]
  },
  {
   "cell_type": "code",
   "execution_count": 4,
   "metadata": {},
   "outputs": [],
   "source": [
    "dicom_file=pydicom.dcmread(\"data/slice.IMA\")"
   ]
  },
  {
   "cell_type": "code",
   "execution_count": 5,
   "metadata": {},
   "outputs": [
    {
     "data": {
      "text/plain": [
       "Dataset.file_meta -------------------------------\n",
       "(0002,0000) File Meta Information Group Length  UL: 192\n",
       "(0002,0001) File Meta Information Version       OB: b'\\x00\\x01'\n",
       "(0002,0002) Media Storage SOP Class UID         UI: CT Image Storage\n",
       "(0002,0003) Media Storage SOP Instance UID      UI: 1.3.12.2.1107.5.1.4.45508.30000019041301312660900000455\n",
       "(0002,0010) Transfer Syntax UID                 UI: Explicit VR Little Endian\n",
       "(0002,0012) Implementation Class UID            UI: 1.3.12.2.1107.5.1.4\n",
       "(0002,0013) Implementation Version Name         SH: 'SIEMENS_S5VB42A'\n",
       "-------------------------------------------------\n",
       "(0008,0005) Specific Character Set              CS: 'ISO_IR 100'\n",
       "(0008,0008) Image Type                          CS: ['ORIGINAL', 'PRIMARY', 'LOCALIZER', 'CT_SOM5 TOP']\n",
       "(0008,0016) SOP Class UID                       UI: CT Image Storage\n",
       "(0008,0018) SOP Instance UID                    UI: 1.3.12.2.1107.5.1.4.45508.30000019041301312660900000455\n",
       "(0008,0020) Study Date                          DA: '20190413'\n",
       "(0008,0021) Series Date                         DA: '20190413'\n",
       "(0008,0022) Acquisition Date                    DA: '20190413'\n",
       "(0008,0023) Content Date                        DA: '20190413'\n",
       "(0008,0030) Study Time                          TM: '084701.437000'\n",
       "(0008,0031) Series Time                         TM: '084712.421000'\n",
       "(0008,0032) Acquisition Time                    TM: '084730.046796'\n",
       "(0008,0033) Content Time                        TM: '084730.046796'\n",
       "(0008,0050) Accession Number                    SH: ''\n",
       "(0008,0060) Modality                            CS: 'CT'\n",
       "(0008,0070) Manufacturer                        LO: 'SIEMENS'\n",
       "(0008,0080) Institution Name                    LO: 'DDNMRC'\n",
       "(0008,0081) Institution Address                 ST: 'Street\\r\\nCity/829f4a/\\r\\nDistrict\\r\\nIN'\n",
       "(0008,0090) Referring Physician's Name          PN: ''\n",
       "(0008,1010) Station Name                        SH: 'MEDPC'\n",
       "(0008,1030) Study Description                   LO: 'Abdomen^01_DDNMRC_AbdomenPlain (Adult)'\n",
       "(0008,103E) Series Description                  LO: 'Topogram  1.0  T20f'\n",
       "(0008,1090) Manufacturer's Model Name           LO: 'Biograph 6'\n",
       "(0009,0010) Private Creator                     LO: 'SIEMENS CT VA1 DUMMY'\n",
       "(0010,0010) Patient's Name                      PN: 'RAMSIYA BEEGAM S'\n",
       "(0010,0020) Patient ID                          LO: '5527'\n",
       "(0010,0030) Patient's Birth Date                DA: '19950413'\n",
       "(0010,0040) Patient's Sex                       CS: 'F'\n",
       "(0010,1010) Patient's Age                       AS: '024Y'\n",
       "(0010,1030) Patient's Weight                    DS: '85'\n",
       "(0018,0015) Body Part Examined                  CS: 'ABDOMEN'\n",
       "(0018,0050) Slice Thickness                     DS: '1'\n",
       "(0018,0060) KVP                                 DS: '130'\n",
       "(0018,0090) Data Collection Diameter            DS: '500.084'\n",
       "(0018,1000) Device Serial Number                LO: '45508'\n",
       "(0018,1020) Software Versions                   LO: '6.7.3'\n",
       "(0018,1030) Protocol Name                       LO: '01_DDNMRC_AbdomenPlain'\n",
       "(0018,1100) Reconstruction Diameter             DS: '512'\n",
       "(0018,1110) Distance Source to Detector         DS: '940'\n",
       "(0018,1111) Distance Source to Patient          DS: '535'\n",
       "(0018,1120) Gantry/Detector Tilt                DS: '0'\n",
       "(0018,1130) Table Height                        DS: '140'\n",
       "(0018,1140) Rotation Direction                  CS: 'CW'\n",
       "(0018,1150) Exposure Time                       IS: '4600'\n",
       "(0018,1151) X-Ray Tube Current                  IS: '20'\n",
       "(0018,1152) Exposure                            IS: '92'\n",
       "(0018,1160) Filter Type                         SH: '1'\n",
       "(0018,1170) Generator Power                     IS: '2'\n",
       "(0018,1190) Focal Spot(s)                       DS: '0.6'\n",
       "(0018,1200) Date of Last Calibration            DA: '20190413'\n",
       "(0018,1201) Time of Last Calibration            TM: '070446.000000'\n",
       "(0018,1210) Convolution Kernel                  SH: 'T20f'\n",
       "(0018,5100) Patient Position                    CS: 'HFS'\n",
       "(0018,9306) Single Collimation Width            FD: 0.5\n",
       "(0018,9307) Total Collimation Width             FD: 3.0\n",
       "(0018,9309) Table Speed                         FD: 100.0\n",
       "(0018,9323) Exposure Modulation Type            CS: 'NONE'\n",
       "(0018,9324) Estimated Dose Saving               FD: 0.0\n",
       "(0018,9345) CTDIvol                             FD: 0.0816\n",
       "(0019,0010) Private Creator                     LO: 'SIEMENS CT VA0  COAD'\n",
       "(0019,1090) [Osteo Offset]                      DS: '0'\n",
       "(0019,1092) [Osteo Regression Line Slope]       DS: '0.921'\n",
       "(0019,1093) [Osteo Regression Line Intercept]   DS: '-1.196'\n",
       "(0019,1096) [Osteo Phantom Number]              IS: '0'\n",
       "(0019,10B1) [Unknown]                           LO: '4.30000019041301521884300000013'\n",
       "(0020,000D) Study Instance UID                  UI: 1.3.12.2.1107.5.1.4.45508.30000019041301495235900000012\n",
       "(0020,000E) Series Instance UID                 UI: 1.3.12.2.1107.5.1.4.45508.30000019041301495235900000013\n",
       "(0020,0010) Study ID                            SH: '1'\n",
       "(0020,0011) Series Number                       IS: '1'\n",
       "(0020,0012) Acquisition Number                  IS: '1'\n",
       "(0020,0013) Instance Number                     IS: '1'\n",
       "(0020,0032) Image Position (Patient)            DS: [-255.5, -140, -807]\n",
       "(0020,0037) Image Orientation (Patient)         DS: [1, 7.044874666e-016, 0, 0, 0, -1]\n",
       "(0020,0052) Frame of Reference UID              UI: 1.3.12.2.1107.5.1.4.45508.30000019041301312660900000454\n",
       "(0020,1040) Position Reference Indicator        LO: ''\n",
       "(0020,1041) Slice Location                      DS: '-806.5'\n",
       "(0020,4000) Image Comments                      LT: ''\n",
       "(0021,0010) Private Creator                     LO: 'SIEMENS MED'\n",
       "(0021,1011) [Target]                            DS: [0, 0]\n",
       "(0028,0002) Samples per Pixel                   US: 1\n",
       "(0028,0004) Photometric Interpretation          CS: 'MONOCHROME2'\n",
       "(0028,0010) Rows                                US: 512\n",
       "(0028,0011) Columns                             US: 512\n",
       "(0028,0030) Pixel Spacing                       DS: [1, 1]\n",
       "(0028,0100) Bits Allocated                      US: 16\n",
       "(0028,0101) Bits Stored                         US: 12\n",
       "(0028,0102) High Bit                            US: 11\n",
       "(0028,0103) Pixel Representation                US: 0\n",
       "(0028,1050) Window Center                       DS: [50, 300]\n",
       "(0028,1051) Window Width                        DS: [350, 2000]\n",
       "(0028,1052) Rescale Intercept                   DS: '-1024'\n",
       "(0028,1053) Rescale Slope                       DS: '1'\n",
       "(0028,1055) Window Center & Width Explanation   LO: ['WINDOW1', 'WINDOW2']\n",
       "(0029,0010) Private Creator                     LO: 'SIEMENS CSA HEADER'\n",
       "(0029,0011) Private Creator                     LO: 'SIEMENS MEDCOM HEADER'\n",
       "(0029,1008) [CSA Image Header Type]             CS: 'SOM 5'\n",
       "(0029,1009) [CSA Image Header Version]          LO: 'VA10A 971201'\n",
       "(0029,1010) [CSA Image Header Info]             OB: Array of 598 elements\n",
       "(0029,1140)  [Application Header Sequence]  2 item(s) ---- \n",
       "   (0029,0010) Private Creator                     LO: 'SIEMENS MEDCOM HEADER'\n",
       "   (0029,1041) [Application Header Type]           CS: 'SOM 5 TPOS'\n",
       "   (0029,1042) [Application Header ID]             LO: 'SOM 5 NULLPOSITION'\n",
       "   (0029,1043) [Application Header Version]        LO: 'VB10A 20030626'\n",
       "   (0029,1044) [Application Header Info]           OB: b'+000000000\\x00M'\n",
       "   ---------\n",
       "   (0029,0010) Private Creator                     LO: 'SIEMENS MEDCOM HEADER'\n",
       "   (0029,1041) [Application Header Type]           CS: 'SOM 5 AEC'\n",
       "   (0029,1042) [Application Header ID]             LO: 'SOM 5 ATTENUATION'\n",
       "   (0029,1043) [Application Header Version]        LO: 'VB10A 20030626'\n",
       "   (0029,1044) [Application Header Info]           OB: Array of 8802 elements\n",
       "   ---------\n",
       "(7FE0,0010) Pixel Data                          OW: Array of 524288 elements"
      ]
     },
     "execution_count": 5,
     "metadata": {},
     "output_type": "execute_result"
    }
   ],
   "source": [
    "dicom_file"
   ]
  },
  {
   "cell_type": "code",
   "execution_count": 7,
   "metadata": {},
   "outputs": [
    {
     "data": {
      "text/plain": [
       "'SIEMENS'"
      ]
     },
     "execution_count": 7,
     "metadata": {},
     "output_type": "execute_result"
    }
   ],
   "source": [
    "dicom_file.Manufacturer"
   ]
  },
  {
   "cell_type": "code",
   "execution_count": 9,
   "metadata": {},
   "outputs": [],
   "source": [
    "dicom_array = dicom_file.pixel_array"
   ]
  },
  {
   "cell_type": "code",
   "execution_count": 10,
   "metadata": {},
   "outputs": [
    {
     "data": {
      "text/plain": [
       "(512, 512)"
      ]
     },
     "execution_count": 10,
     "metadata": {},
     "output_type": "execute_result"
    }
   ],
   "source": [
    "dicom_array.shape"
   ]
  },
  {
   "cell_type": "markdown",
   "metadata": {},
   "source": [
    "## Show Image"
   ]
  },
  {
   "cell_type": "code",
   "execution_count": 12,
   "metadata": {},
   "outputs": [
    {
     "data": {
      "text/plain": [
       "numpy.ndarray"
      ]
     },
     "execution_count": 12,
     "metadata": {},
     "output_type": "execute_result"
    }
   ],
   "source": [
    "type(dicom_array)"
   ]
  }
 ],
 "metadata": {
  "kernelspec": {
   "display_name": "dicom-env",
   "language": "python",
   "name": "python3"
  },
  "language_info": {
   "codemirror_mode": {
    "name": "ipython",
    "version": 3
   },
   "file_extension": ".py",
   "mimetype": "text/x-python",
   "name": "python",
   "nbconvert_exporter": "python",
   "pygments_lexer": "ipython3",
   "version": "3.12.9"
  }
 },
 "nbformat": 4,
 "nbformat_minor": 2
}
